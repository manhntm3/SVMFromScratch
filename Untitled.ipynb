{
 "cells": [
  {
   "cell_type": "code",
   "execution_count": 43,
   "metadata": {},
   "outputs": [],
   "source": [
    "from __future__ import print_function\n",
    "import numpy as np\n",
    "import matplotlib.pyplot as plt\n",
    "\n",
    "\n",
    "means = [[2, 2], [4, 2]]\n",
    "cov = [[.3, .2], [.2, .3]]\n",
    "N = 10\n",
    "x0 = np.random.multivariate_normal(means[0], cov, N)\n",
    "x1 = np.random.multivariate_normal(means[1], cov, N)\n",
    "x = np.concatenate((x0.T, x1.T), axis = 1)\n",
    "y = np.concatenate((np.ones((1, N)), -1 * np.ones((1, N))), axis = 1)"
   ]
  },
  {
   "cell_type": "code",
   "execution_count": 44,
   "metadata": {},
   "outputs": [
    {
     "name": "stdout",
     "output_type": "stream",
     "text": [
      "[[ 1.77747963e-09  8.92225112e-09  3.38262594e-09  2.81556931e+01\n",
      "   3.38266543e-10  3.36453872e-09  7.53565665e-09  2.94066095e-10\n",
      "   1.52947416e-09  5.85977836e-10  1.83270957e-09 -5.61824301e-10\n",
      "  -1.34295294e-09  9.68326486e+00 -9.75647785e-10  5.51599531e-10\n",
      "   1.64701687e-07  1.84724281e+01  7.72523569e-09 -3.77907624e-10]]\n"
     ]
    }
   ],
   "source": [
    "from cvxopt import matrix, solvers\n",
    "\"\"\"\n",
    "    The equations need to solve is -1/2*lamda^T*V^T*V*lamda + 1^T*lamda\n",
    "    subject to : lamda>=0\n",
    "    Sum(lamdaiyi(i in [1..N])) = 0\n",
    "\"\"\"\n",
    "V = np.concatenate((x0.T, -x1.T), axis = 1) # V = [yixi], i in [1..N]\n",
    "P = matrix(V.T.dot(V)) # P = V^T*V\n",
    "q = matrix(-np.ones((2*N, 1))) # q is the 1^T\n",
    "G = matrix(-np.eye(2*N)) # G is the lamda coefficient\n",
    "h = matrix(np.zeros((2*N, 1))) # lamda>=0 -> -lamda<=0\n",
    "A = matrix(y) # Ax=b -> A = y actually y^T*lamda=0\n",
    "b = matrix(np.zeros((1,1)))\n",
    "\n",
    "\n",
    "sol = solvers.qp(P, q, G, h, A, b)\n",
    "lamda = np.array(sol['x'])\n",
    "print(lamda.T)\n"
   ]
  },
  {
   "cell_type": "code",
   "execution_count": 45,
   "metadata": {},
   "outputs": [],
   "source": [
    "epsilon = 1e-6\n",
    "\n",
    "s = np.where(lamda > epsilon)[0]\n",
    "Vs = V[:, s]\n",
    "Xs = X[:, s]\n",
    "ys = y[:, s]\n",
    "ls = lamda[s]\n",
    "\n",
    "w = Vs.dot(ls)\n",
    "b = np.mean(ys.T - w.T.dot(Xs))\n",
    "\n",
    "\n",
    "\n"
   ]
  },
  {
   "cell_type": "code",
   "execution_count": 46,
   "metadata": {},
   "outputs": [
    {
     "data": {
      "image/png": "[encoded data removed]",
      "text/plain": [
       "<Figure size 432x288 with 1 Axes>"
      ]
     },
     "metadata": {
      "needs_background": "light"
     },
     "output_type": "display_data"
    }
   ],
   "source": [
    "# plot points\n",
    "plt.plot(X0[:, 0], X0[:, 1], 'bs', markersize = 8, alpha = .8)\n",
    "plt.plot(X1[:, 0], X1[:, 1], 'ro', markersize = 8, alpha = .8)\n",
    "plt.axis('equal')\n",
    "# axis limits\n",
    "plt.ylim(0, 3)\n",
    "plt.xlim(2, 4)\n",
    "plt.xlabel('$x_0$', fontsize = 20)\n",
    "plt.ylabel('$x_1$', fontsize = 20)\n",
    "# pdf.savefig()\n",
    "plt.show()"
   ]
  },
  {
   "cell_type": "code",
   "execution_count": 47,
   "metadata": {},
   "outputs": [
    {
     "data": {
      "image/png": "[encoded data removed]",
      "text/plain": [
       "<Figure size 432x288 with 1 Axes>"
      ]
     },
     "metadata": {},
     "output_type": "display_data"
    }
   ],
   "source": [
    "fig, ax = plt.subplots()\n",
    "x1 = np.arange(-10, 10, 0.1)\n",
    "y1 = -w[0, 0]/w[1, 0]*x1 - b/w[1, 0]\n",
    "y2 = -w[0, 0]/w[1, 0]*x1 - (b-1)/w[1, 0]\n",
    "y3 = -w[0, 0]/w[1, 0]*x1 - (b+1)/w[1, 0]\n",
    "plt.plot(x1, y1, 'k', linewidth = 3)\n",
    "plt.plot(x1, y2, 'k')\n",
    "plt.plot(x1, y3, 'k')\n",
    "\n",
    "\n",
    "y4 = 10*x1\n",
    "plt.plot(x1, y1, 'k')\n",
    "plt.fill_between(x1, y1, color='red', alpha='0.1')\n",
    "plt.fill_between(x1, y1, y4, color = 'blue', alpha = '.1')\n",
    "\n",
    "\n",
    "plt.plot(X0[:, 0], X0[:, 1], 'bs', markersize = 8, alpha = .8)\n",
    "plt.plot(X1[:, 0], X1[:, 1], 'ro', markersize = 8, alpha = .8)\n",
    "\n",
    "plt.axis('equal')\n",
    "plt.ylim(0, 3)\n",
    "plt.xlim(2, 4)\n",
    "\n",
    "# hide tikcs \n",
    "cur_axes = plt.gca()\n",
    "cur_axes.axes.get_xaxis().set_ticks([])\n",
    "cur_axes.axes.get_yaxis().set_ticks([])\n",
    "\n",
    "# add circles around support vectors \n",
    "for m in s:\n",
    "    circle = plt.Circle((X[0, m], X[1, m] ), 0.1, color='k', fill = False)\n",
    "    ax.add_artist(circle)\n",
    "\n",
    "\n",
    "plt.xlabel('$x_1$', fontsize = 20)\n",
    "plt.ylabel('$x_2$', fontsize = 20)\n",
    "#     plt.savefig('svm4.png', bbox_inches='tight', dpi = 300)\n",
    "plt.show()"
   ]
  },
  {
   "cell_type": "code",
   "execution_count": null,
   "metadata": {},
   "outputs": [],
   "source": []
  },
  {
   "cell_type": "code",
   "execution_count": null,
   "metadata": {},
   "outputs": [],
   "source": []
  },
  {
   "cell_type": "code",
   "execution_count": null,
   "metadata": {},
   "outputs": [],
   "source": []
  }
 ],
 "metadata": {
  "kernelspec": {
   "display_name": "Python 3",
   "language": "python",
   "name": "python3"
  },
  "language_info": {
   "codemirror_mode": {
    "name": "ipython",
    "version": 3
   },
   "file_extension": ".py",
   "mimetype": "text/x-python",
   "name": "python",
   "nbconvert_exporter": "python",
   "pygments_lexer": "ipython3",
   "version": "3.6.8"
  }
 },
 "nbformat": 4,
 "nbformat_minor": 2
}
