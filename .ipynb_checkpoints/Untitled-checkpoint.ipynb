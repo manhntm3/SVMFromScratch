{
 "cells": [
  {
   "cell_type": "code",
   "execution_count": 1,
   "metadata": {},
   "outputs": [],
   "source": [
    "from __future__ import print_function\n",
    "import numpy as np\n",
    "import matplotlib.pyplot as pyt\n",
    "\n",
    "np.random.seed(22)\n",
    "\n",
    "means = [[2, 2], [4, 2]]\n",
    "cov = [[.3, .2], [.2, .3]]\n",
    "N = 10\n",
    "x0 = np.random.multivariate_normal(means[0], cov, N)\n",
    "x1 = np.random.multivariate_normal(means[1], cov, N)\n",
    "x = np.concatenate((x0.T, x1.T), axis = 1)\n",
    "y = np.concatenate((np.ones((1, N)), -1 * np.ones((1, N))), axis = 1)"
   ]
  },
  {
   "cell_type": "code",
   "execution_count": 2,
   "metadata": {},
   "outputs": [
    {
     "name": "stdout",
     "output_type": "stream",
     "text": [
      "     pcost       dcost       gap    pres   dres\n",
      " 0: -1.9286e+00  2.7551e+00  4e+01  7e+00  1e+00\n",
      " 1:  5.4269e-01 -8.4460e-02  3e+00  4e-01  8e-02\n",
      " 2:  1.5658e-01 -1.0702e-02  2e-01  4e-17  6e-16\n",
      " 3:  4.0928e-03 -1.2000e-05  4e-03  4e-18  3e-16\n",
      " 4:  4.1076e-05 -1.2182e-09  4e-05  1e-19  4e-16\n",
      " 5:  4.1075e-07 -1.2182e-13  4e-07  2e-21  3e-16\n",
      " 6:  4.1075e-09 -1.2182e-17  4e-09  3e-23  3e-16\n",
      "Optimal solution found.\n",
      "[[1.04954081e-10 5.13932461e-11 9.53833905e-11 1.72590362e-10\n",
      "  1.37520050e-10 1.38856841e-10 2.03666484e-10 8.95355875e-11\n",
      "  8.84834853e-10 1.74999710e-10 1.45662333e-10 2.20887446e-10\n",
      "  1.07358121e-10 1.90655214e-10 2.48831981e-10 1.24300548e-10\n",
      "  2.08571760e-10 2.46206401e-10 2.06264504e-10 3.54996296e-10]]\n"
     ]
    }
   ],
   "source": [
    "from cvxopt import matrix, solvers\n",
    "\"\"\"\n",
    "    The equations need to solve is -1/2*lamda^T*V^T*V*lamda + 1^T*lamda\n",
    "    subject to : lamda>=0\n",
    "    Sum(lamdaiyi(i in [1..N])) = 0\n",
    "\"\"\"\n",
    "V = np.concatenate((x0.T, -x1.T), axis = 1) # V = [yixi], i in [1..N]\n",
    "P = matrix(V.T.dot(V)) # P = V^T*V\n",
    "q = matrix(np.ones((2*N, 1))) # q is the 1^T\n",
    "G = matrix(-np.eye(2*N)) # G is the lamda coefficient\n",
    "h = matrix(np.zeros((2*N, 1))) # lamda>=0 -> -lamda<=0\n",
    "A = matrix(y) # Ax=b -> A = y actually y^T*lamda=0\n",
    "b = matrix(np.zeros((1,1)))\n",
    "\n",
    "\n",
    "sol = solvers.qp(P, q, G, h, A, b)\n",
    "lamda = np.array(sol['x'])\n",
    "print(lamda.T)\n"
   ]
  },
  {
   "cell_type": "code",
   "execution_count": 7,
   "metadata": {},
   "outputs": [
    {
     "name": "stdout",
     "output_type": "stream",
     "text": [
      "[]\n"
     ]
    },
    {
     "ename": "TypeError",
     "evalue": "invalid index argument",
     "output_type": "error",
     "traceback": [
      "\u001b[0;31m---------------------------------------------------------------------------\u001b[0m",
      "\u001b[0;31mTypeError\u001b[0m                                 Traceback (most recent call last)",
      "\u001b[0;32m<ipython-input-7-2224fd46eb23>\u001b[0m in \u001b[0;36m<module>\u001b[0;34m\u001b[0m\n\u001b[1;32m      4\u001b[0m \u001b[0mprint\u001b[0m\u001b[0;34m(\u001b[0m\u001b[0ms\u001b[0m\u001b[0;34m)\u001b[0m\u001b[0;34m\u001b[0m\u001b[0;34m\u001b[0m\u001b[0m\n\u001b[1;32m      5\u001b[0m \u001b[0mVs\u001b[0m \u001b[0;34m=\u001b[0m \u001b[0mV\u001b[0m\u001b[0;34m[\u001b[0m\u001b[0;34m:\u001b[0m\u001b[0;34m,\u001b[0m \u001b[0ms\u001b[0m\u001b[0;34m]\u001b[0m\u001b[0;34m\u001b[0m\u001b[0;34m\u001b[0m\u001b[0m\n\u001b[0;32m----> 6\u001b[0;31m \u001b[0mqs\u001b[0m \u001b[0;34m=\u001b[0m \u001b[0mq\u001b[0m\u001b[0;34m[\u001b[0m\u001b[0;34m:\u001b[0m\u001b[0;34m,\u001b[0m \u001b[0ms\u001b[0m\u001b[0;34m]\u001b[0m\u001b[0;34m\u001b[0m\u001b[0;34m\u001b[0m\u001b[0m\n\u001b[0m",
      "\u001b[0;31mTypeError\u001b[0m: invalid index argument"
     ]
    }
   ],
   "source": [
    "epsilon = 1e-6\n",
    "\n",
    "s = np.where(lamda > epsilon)[0]\n",
    "print(s)\n",
    "Vs = V[:, s]\n",
    "qs = q[:, s]"
   ]
  },
  {
   "cell_type": "code",
   "execution_count": null,
   "metadata": {},
   "outputs": [],
   "source": []
  },
  {
   "cell_type": "code",
   "execution_count": null,
   "metadata": {},
   "outputs": [],
   "source": []
  },
  {
   "cell_type": "code",
   "execution_count": null,
   "metadata": {},
   "outputs": [],
   "source": []
  },
  {
   "cell_type": "code",
   "execution_count": null,
   "metadata": {},
   "outputs": [],
   "source": []
  },
  {
   "cell_type": "code",
   "execution_count": null,
   "metadata": {},
   "outputs": [],
   "source": []
  }
 ],
 "metadata": {
  "kernelspec": {
   "display_name": "Python 3",
   "language": "python",
   "name": "python3"
  },
  "language_info": {
   "codemirror_mode": {
    "name": "ipython",
    "version": 3
   },
   "file_extension": ".py",
   "mimetype": "text/x-python",
   "name": "python",
   "nbconvert_exporter": "python",
   "pygments_lexer": "ipython3",
   "version": "3.6.8"
  }
 },
 "nbformat": 4,
 "nbformat_minor": 2
}
